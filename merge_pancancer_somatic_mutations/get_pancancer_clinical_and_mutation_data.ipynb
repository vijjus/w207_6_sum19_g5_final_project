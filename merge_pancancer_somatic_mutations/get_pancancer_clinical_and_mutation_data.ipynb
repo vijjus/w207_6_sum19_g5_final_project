{
 "cells": [
  {
   "cell_type": "code",
   "execution_count": null,
   "metadata": {},
   "outputs": [],
   "source": [
    "import pandas as pd\n",
    "import urllib.request\n",
    "import numpy as np\n",
    "from IPython.display import display\n",
    "import os"
   ]
  },
  {
   "cell_type": "markdown",
   "metadata": {},
   "source": [
    "# Data Collection #\n",
    "\n",
    "For our analysis of cancer prediction using gene mutation and clinical data from patients, we will gather data from multiple sources. First we obtain the gene mutation data from the $cancer.gov$ website. Next we get the patient clinical data also from the $cancer.gov$ website. In our notebook, we store this data locally so that it does not have to downloaded if the notebook kernel is restarted and run multiple times."
   ]
  },
  {
   "cell_type": "code",
   "execution_count": null,
   "metadata": {},
   "outputs": [],
   "source": [
    "# This downloads a 753 MB mutations gzip file.  This will take about 1-5 mins depending on your\n",
    "# connection speed.\n",
    "filename = \"pancancer_mutations.maf.gz\"\n",
    "if os.path.isfile(filename):\n",
    "    print(\"Skipping download, as file %s is present\" %(filename))\n",
    "else:\n",
    "    print('Downloading mutation data. 753 MB ...')\n",
    "    url = 'http://api.gdc.cancer.gov/data/1c8cfe5f-e52d-41ba-94da-f15ea1337efc'  \n",
    "    urllib.request.urlretrieve(url, './pancancer_mutations.maf.gz')  \n",
    "print(\"done.\")"
   ]
  },
  {
   "cell_type": "code",
   "execution_count": null,
   "metadata": {},
   "outputs": [],
   "source": [
    "# This downloads an 18 MB clinical data file\n",
    "filename = \"pancancer_clinical.txt\"\n",
    "if os.path.isfile(filename):\n",
    "    print(\"Skipping download, as file %s is present\" %(filename))\n",
    "else:\n",
    "    print('Downloading clinical data ...')\n",
    "    url = 'http://api.gdc.cancer.gov/data/0fc78496-818b-4896-bd83-52db1f533c5c'  \n",
    "    urllib.request.urlretrieve(url, './pancancer_clinical.txt')  \n",
    "print(\"done.\")"
   ]
  },
  {
   "cell_type": "markdown",
   "metadata": {},
   "source": [
    "## Loading Gene Mutation Data ##\n",
    "\n",
    "Here we read the gene mutation data. This data file contains many columns, but after careful curation, we have decided to consider the following colums:\n",
    "\n",
    "1. **Tumor_Sample_Barcode**: this contains the barcode with the first 12 characters identifying the patient\n",
    "2. **Hugo_Symbol**: this is the actual gene that has been mutated (for e.g. TACC2, JAKMIP3, PANX3)\n",
    "3. **Chromosome**: the chromosome tells us the location of the gene where the mutation is seen\n",
    "4. **Variant_Classification**: this indicates the kind of mutation seen in the gene\n",
    "5. **Variant_Type**: this indicates the cancer type that we are trying to predict"
   ]
  },
  {
   "cell_type": "code",
   "execution_count": null,
   "metadata": {},
   "outputs": [],
   "source": [
    "# Load the mutations dataframe\n",
    "print('Loading mutations dataframe ...')\n",
    "mutations = pd.read_csv(\"pancancer_mutations.maf.gz\", compression='gzip',\n",
    "                        sep='\\t',\n",
    "                        usecols=['Tumor_Sample_Barcode','Hugo_Symbol', \n",
    "                                 'Variant_Classification', 'Variant_Type',\n",
    "                                'Chromosome'])\n",
    "print(\"done.\")\n",
    "print(\"Mutations count\", mutations.Tumor_Sample_Barcode.count())"
   ]
  },
  {
   "cell_type": "code",
   "execution_count": null,
   "metadata": {},
   "outputs": [],
   "source": [
    "mutations.head()"
   ]
  },
  {
   "cell_type": "code",
   "execution_count": null,
   "metadata": {},
   "outputs": [],
   "source": [
    "len(mutations['Hugo_Symbol'].unique())"
   ]
  },
  {
   "cell_type": "code",
   "execution_count": null,
   "metadata": {},
   "outputs": [],
   "source": [
    "# Set mutations index\n",
    "mutations['row'] = np.arange(len(mutations))\n",
    "mutations.set_index('row')"
   ]
  },
  {
   "cell_type": "markdown",
   "metadata": {},
   "source": [
    "The actual cancer type for each of the gene mutations above is kept in a different file. The entries are located at corresponding rows, so we use that to merge the cancer type from the labels.txt file."
   ]
  },
  {
   "cell_type": "code",
   "execution_count": null,
   "metadata": {},
   "outputs": [],
   "source": [
    "# Read the cancertypes.  These are the matching labels for the mutations file\n",
    "print(\"Loading labels dataframe ...\")\n",
    "labels = pd.read_csv(\"labels.txt\", sep='\\t')\n",
    "labels.columns = [\"cancer_type\"]\n",
    "labels['row'] = np.arange(len(labels))\n",
    "labels.set_index('row')\n",
    "print('Labels count', labels.cancer_type.count())"
   ]
  },
  {
   "cell_type": "markdown",
   "metadata": {},
   "source": [
    "As we can see, there are **3600963** data points in both the gene dataframe and the cancer label dataframe. So now we merge the label information into the main mutations dataframe. The idea is that when we bring in the patient information, we will go from a _row for each gene_ to a _row for each patient_, with all the gene mutation data for that patient added as columns. With this, the cancer type (label) will also gets included as a column. "
   ]
  },
  {
   "cell_type": "code",
   "execution_count": null,
   "metadata": {},
   "outputs": [],
   "source": [
    "# Merge the labels with the mutations\n",
    "mutations = mutations.merge(labels, left_on='row', right_on='row')\n",
    "display(mutations.head())"
   ]
  },
  {
   "cell_type": "markdown",
   "metadata": {},
   "source": [
    "## Loading Patient Data##\n",
    "\n",
    "Here we load the clinical data. This is data for patients for whom we collected the gene mutation data above. The patients are identified by $bcr\\_patient\\_barcode$. We will use this field to populate the gene mutation data from the dataframe above in the table we are about to read. The clinical data has patient information such as age, gender etc."
   ]
  },
  {
   "cell_type": "code",
   "execution_count": null,
   "metadata": {},
   "outputs": [],
   "source": [
    "# Load the clinical data\n",
    "print('Loading clinical dataframe ...')\n",
    "clinical = pd.read_csv(\"pancancer_clinical.txt\", sep='\\t',\n",
    "                        usecols=['bcr_patient_barcode', 'gender', \n",
    "                                 'vital_status', 'days_to_birth', 'days_to_death', \n",
    "                                 'age_at_initial_pathologic_diagnosis', 'pathologic_stage', \n",
    "                                 'height', 'weight'])\n",
    "\n",
    "print('Clinical count', clinical.bcr_patient_barcode.count())\n",
    "display(clinical.head())"
   ]
  },
  {
   "cell_type": "markdown",
   "metadata": {},
   "source": [
    "## Creating Merged Data ##\n",
    "\n",
    "Now that we have both gene and cancer data in one dataframe, and the patient clinical data in another dataframe, we will use the **bcr_patient_barcode** to merge these into a single table. With this, we can drop the Tumor_Sample_Barcode column, since it has served its purpose. Looking at the data, it seems like some patient data is missing from the gene data. Simultaneously, some data in the gene dataframe does not have corresponding clinical data. Hence our merged dataframe size will be lower than the original mutations dataframe size."
   ]
  },
  {
   "cell_type": "code",
   "execution_count": null,
   "metadata": {},
   "outputs": [],
   "source": [
    "clinical['bcr_patient_barcode'].isnull().values.any()"
   ]
  },
  {
   "cell_type": "code",
   "execution_count": null,
   "metadata": {},
   "outputs": [],
   "source": [
    "missing_count = 0\n",
    "gene_barcode_set = set(mutations.bcr_patient_barcode.unique())\n",
    "for bcr in gene_barcode_set:\n",
    "    if bcr not in set(clinical.bcr_patient_barcode.unique()):\n",
    "        missing_count += 1\n",
    "print(\"%d patients with gene data missing in clinical data\" %missing_count)"
   ]
  },
  {
   "cell_type": "code",
   "execution_count": null,
   "metadata": {},
   "outputs": [],
   "source": [
    "# Get the patient barcode.  This is what we will use to join the mutations to the clinical data\n",
    "def parsePatientBarcode(tumor_sample_barcode):\n",
    "        return tumor_sample_barcode[0:12]\n",
    "\n",
    "mutations['bcr_patient_barcode'] = mutations['Tumor_Sample_Barcode'].apply(parsePatientBarcode)\n",
    "mutations = mutations.drop(['Tumor_Sample_Barcode'], axis=1)\n",
    "mutations.head()"
   ]
  },
  {
   "cell_type": "code",
   "execution_count": null,
   "metadata": {},
   "outputs": [],
   "source": [
    "merged = mutations.merge(clinical, left_on='bcr_patient_barcode', right_on='bcr_patient_barcode')\n",
    "display(merged.head())\n",
    "merged.bcr_patient_barcode.count()\n",
    "print('Merged mutations count', merged.bcr_patient_barcode.count())"
   ]
  },
  {
   "cell_type": "code",
   "execution_count": null,
   "metadata": {},
   "outputs": [],
   "source": [
    "# Write out new merged dataframe as csv file\n",
    "print(\"Writing new csv file with merged mutations, clinical, and cancer types ...\")\n",
    "merged.to_csv(\"pancancer_mutations_merged.csv\")\n",
    "print(\"done.\")"
   ]
  }
 ],
 "metadata": {
  "kernelspec": {
   "display_name": "Python 3",
   "language": "python",
   "name": "python3"
  },
  "language_info": {
   "codemirror_mode": {
    "name": "ipython",
    "version": 3
   },
   "file_extension": ".py",
   "mimetype": "text/x-python",
   "name": "python",
   "nbconvert_exporter": "python",
   "pygments_lexer": "ipython3",
   "version": "3.7.1"
  }
 },
 "nbformat": 4,
 "nbformat_minor": 2
}
